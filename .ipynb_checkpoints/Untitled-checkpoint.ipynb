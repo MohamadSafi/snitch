{
 "cells": [
  {
   "cell_type": "code",
   "execution_count": 16,
   "id": "16f9d84d-8109-49af-90cb-3aeb68e8b35b",
   "metadata": {},
   "outputs": [],
   "source": [
    "from db import *\n",
    "import sqlite3\n",
    "create_tables()\n",
    "commit_user(2, \"userna\", \"bill\")\n",
    "commit_target(11, \"username\", \"girl\", \"Bitch\", \"long\", \"\", \"on\", \"0988\", 1)\n"
   ]
  },
  {
   "cell_type": "code",
   "execution_count": 14,
   "id": "a9a615e2-63c7-46b6-b34c-d94246e3bdd1",
   "metadata": {},
   "outputs": [
    {
     "name": "stdout",
     "output_type": "stream",
     "text": [
      "/home/billy/Documents/Telegram Bot/snitch\n"
     ]
    }
   ],
   "source": [
    "import os\n",
    "print(os.getcwd())"
   ]
  },
  {
   "cell_type": "code",
   "execution_count": 15,
   "id": "2fefdd4f-05d6-4314-b8f6-170e0a3849c6",
   "metadata": {},
   "outputs": [
    {
     "name": "stdout",
     "output_type": "stream",
     "text": [
      "[]\n"
     ]
    }
   ],
   "source": [
    "conn = sqlite3.connect(\"snitch.db\")\n",
    "cur = conn.cursor()\n",
    "data = (1,)\n",
    "query = \"SELECT * FROM Targets WHERE spyer_id = ?;\"\n",
    "cur.execute(query, data)\n",
    "rows  = cur.fetchall()\n",
    "print(rows)\n",
    "conn.close()"
   ]
  }
 ],
 "metadata": {
  "kernelspec": {
   "display_name": "Python 3 (ipykernel)",
   "language": "python",
   "name": "python3"
  },
  "language_info": {
   "codemirror_mode": {
    "name": "ipython",
    "version": 3
   },
   "file_extension": ".py",
   "mimetype": "text/x-python",
   "name": "python",
   "nbconvert_exporter": "python",
   "pygments_lexer": "ipython3",
   "version": "3.8.10"
  }
 },
 "nbformat": 4,
 "nbformat_minor": 5
}
